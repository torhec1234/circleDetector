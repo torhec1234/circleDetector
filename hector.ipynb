def countCircles1(image_path):
    
    img = cv2.imread(image_path, cv2.IMREAD_COLOR)
    image = cv2.imread(image_path, cv2.IMREAD_GRAYSCALE)
    # Apply a Gaussian blur to reduce noise
    blurred = cv2.GaussianBlur(image, (5, 5), 0)
    # Perform Hough Circle Transform
    circles = cv2.HoughCircles(blurred, cv2.HOUGH_GRADIENT, 1, 20, param1=50, param2=30, minRadius=20, maxRadius=50)
    rgb = cv2.cvtColor(img, cv2.COLOR_BGR2RGB)
    num_circles = 0

# Check if circles were found
    if circles is not None:
    # Convert the coordinates and radius to integers
        circles = circles.round().astype(int)

    # Draw the detected circles on the original image
        for (x, y, r) in circles[0]:
            cv2.circle(rgb, (x, y), r, (0, 255, 0), 2)
        # Draw a small circle (of radius 1) to show the center.
            cv2.circle(rgb, (x, y), 25, (0, 0, 255), 3)
    # Count the number of circles
        num_circles = len(circles[0])
        print("Number of circles detected:", num_circles)

    # Display the image with detected circles
        cv2.imshow("Detected Circles", rgb)
        #cv2.waitKey(0)
        #cv2.destroyAllWindows()
    else:
        print("No circles detected in the image.")

    fig, axs = plt.subplots(1, 2, figsize = (20,8))
    axs[0].imshow(cv2.imread(image_path, cv2.IMREAD_COLOR))
    axs[0].set_title('Original')
    
    axs[1].imshow(rgb)
    axs[1].set_title(f'{num_circles} circles detected')
